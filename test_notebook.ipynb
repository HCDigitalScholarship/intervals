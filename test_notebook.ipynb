{
 "cells": [
  {
   "cell_type": "markdown",
   "metadata": {
    "collapsed": true,
    "pycharm": {
     "name": "#%% md\n"
    }
   },
   "source": [
    "# This Jupyter notebook is used for testing.\n",
    "\n",
    "Methods are imported from intervals, test methods from test_utils.py.\n",
    "Users can play with the model and output dataframe."
   ]
  },
  {
   "cell_type": "code",
   "execution_count": 1,
   "outputs": [],
   "source": [
    "%load_ext autoreload\n",
    "%autoreload 2\n",
    "from main_objs import *\n",
    "from test_utils import test_on_model, build_crim_models"
   ],
   "metadata": {
    "collapsed": false,
    "pycharm": {
     "name": "#%%\n"
    }
   }
  },
  {
   "cell_type": "code",
   "execution_count": 8,
   "outputs": [
    {
     "name": "stdout",
     "output_type": "stream",
     "text": [
      "Requesting file from https://raw.githubusercontent.com/CRIM-Project/CRIM-online/master/crim/static/mei/MEI_4.0/CRIM_Model_0001.mei...\n",
      "Successfully imported.\n",
      "Requesting file from https://raw.githubusercontent.com/CRIM-Project/CRIM-online/master/crim/static/mei/MEI_4.0/CRIM_Model_0008.mei...\n",
      "Successfully imported.\n",
      "Requesting file from https://raw.githubusercontent.com/CRIM-Project/CRIM-online/master/crim/static/mei/MEI_4.0/CRIM_Model_0016.mei...\n",
      "Successfully imported.\n",
      "Requesting file from https://raw.githubusercontent.com/CRIM-Project/CRIM-online/master/crim/static/mei/MEI_4.0/CRIM_Model_0017.mei...\n",
      "Successfully imported.\n"
     ]
    }
   ],
   "source": [
    "files = [\"01\", \"08\", \"16\", \"17\"]\n",
    "models = build_crim_models(files)"
   ],
   "metadata": {
    "collapsed": false,
    "pycharm": {
     "name": "#%%\n"
    }
   }
  },
  {
   "cell_type": "code",
   "execution_count": 12,
   "outputs": [],
   "source": [
    "result_dfs = []\n",
    "for model in models:\n",
    "    df = test_on_model(model.getNgrams, model.getMelodic(kind='d'), 3, 'columnwise', None, 'Held',\n",
    "                  ['Rest'], ('d', True, True), str, 0, 0, 'end', False)\n",
    "    result_dfs.append(df)"
   ],
   "metadata": {
    "collapsed": false,
    "pycharm": {
     "name": "#%%\n"
    }
   }
  },
  {
   "cell_type": "code",
   "execution_count": 13,
   "outputs": [
    {
     "data": {
      "text/plain": "          Superius Contratenor PrimusTenor SecundusTenor     Bassus\n12.0      5, -2, 2         NaN         NaN           NaN        NaN\n14.0      -2, 2, 3         NaN         NaN           NaN        NaN\n16.0      2, 3, -2         NaN         NaN           NaN        NaN\n18.0     3, -2, -2         NaN         NaN           NaN        NaN\n21.0    -2, -2, -2         NaN         NaN           NaN        NaN\n...            ...         ...         ...           ...        ...\n1065.0         NaN         NaN         NaN           NaN    2, 2, 2\n1066.0         NaN  -2, -2, -2         NaN      2, 3, -2    2, 2, 2\n1068.0         NaN   -2, -2, 4         NaN     3, -2, -2   2, 2, -3\n1070.0         NaN         NaN         NaN           NaN  2, -3, -3\n1072.0         NaN   -2, 4, -2         NaN    -2, -2, -2  -3, -3, 5\n\n[747 rows x 5 columns]",
      "text/html": "<div>\n<style scoped>\n    .dataframe tbody tr th:only-of-type {\n        vertical-align: middle;\n    }\n\n    .dataframe tbody tr th {\n        vertical-align: top;\n    }\n\n    .dataframe thead th {\n        text-align: right;\n    }\n</style>\n<table border=\"1\" class=\"dataframe\">\n  <thead>\n    <tr style=\"text-align: right;\">\n      <th></th>\n      <th>Superius</th>\n      <th>Contratenor</th>\n      <th>PrimusTenor</th>\n      <th>SecundusTenor</th>\n      <th>Bassus</th>\n    </tr>\n  </thead>\n  <tbody>\n    <tr>\n      <th>12.0</th>\n      <td>5, -2, 2</td>\n      <td>NaN</td>\n      <td>NaN</td>\n      <td>NaN</td>\n      <td>NaN</td>\n    </tr>\n    <tr>\n      <th>14.0</th>\n      <td>-2, 2, 3</td>\n      <td>NaN</td>\n      <td>NaN</td>\n      <td>NaN</td>\n      <td>NaN</td>\n    </tr>\n    <tr>\n      <th>16.0</th>\n      <td>2, 3, -2</td>\n      <td>NaN</td>\n      <td>NaN</td>\n      <td>NaN</td>\n      <td>NaN</td>\n    </tr>\n    <tr>\n      <th>18.0</th>\n      <td>3, -2, -2</td>\n      <td>NaN</td>\n      <td>NaN</td>\n      <td>NaN</td>\n      <td>NaN</td>\n    </tr>\n    <tr>\n      <th>21.0</th>\n      <td>-2, -2, -2</td>\n      <td>NaN</td>\n      <td>NaN</td>\n      <td>NaN</td>\n      <td>NaN</td>\n    </tr>\n    <tr>\n      <th>...</th>\n      <td>...</td>\n      <td>...</td>\n      <td>...</td>\n      <td>...</td>\n      <td>...</td>\n    </tr>\n    <tr>\n      <th>1065.0</th>\n      <td>NaN</td>\n      <td>NaN</td>\n      <td>NaN</td>\n      <td>NaN</td>\n      <td>2, 2, 2</td>\n    </tr>\n    <tr>\n      <th>1066.0</th>\n      <td>NaN</td>\n      <td>-2, -2, -2</td>\n      <td>NaN</td>\n      <td>2, 3, -2</td>\n      <td>2, 2, 2</td>\n    </tr>\n    <tr>\n      <th>1068.0</th>\n      <td>NaN</td>\n      <td>-2, -2, 4</td>\n      <td>NaN</td>\n      <td>3, -2, -2</td>\n      <td>2, 2, -3</td>\n    </tr>\n    <tr>\n      <th>1070.0</th>\n      <td>NaN</td>\n      <td>NaN</td>\n      <td>NaN</td>\n      <td>NaN</td>\n      <td>2, -3, -3</td>\n    </tr>\n    <tr>\n      <th>1072.0</th>\n      <td>NaN</td>\n      <td>-2, 4, -2</td>\n      <td>NaN</td>\n      <td>-2, -2, -2</td>\n      <td>-3, -3, 5</td>\n    </tr>\n  </tbody>\n</table>\n<p>747 rows × 5 columns</p>\n</div>"
     },
     "execution_count": 13,
     "metadata": {},
     "output_type": "execute_result"
    }
   ],
   "source": [
    "result_dfs[0]"
   ],
   "metadata": {
    "collapsed": false,
    "pycharm": {
     "name": "#%%\n"
    }
   }
  },
  {
   "cell_type": "code",
   "execution_count": 18,
   "outputs": [
    {
     "data": {
      "text/plain": "       [Discantus] [Contratenor]    [Tenor] [QuintaVox] [SextaVox]  [Bassus]\n8.0            NaN       1, 2, 2        NaN         NaN        NaN       NaN\n10.0           NaN       2, 2, 2        NaN         NaN        NaN       NaN\n12.0           NaN      2, 2, -4        NaN         NaN        NaN       NaN\n14.0           NaN      2, -4, 8        NaN         NaN        NaN       NaN\n18.0           NaN     -4, 8, -2        NaN         NaN        NaN       NaN\n...            ...           ...        ...         ...        ...       ...\n1480.0         NaN           NaN        NaN         NaN        NaN  -3, 1, 4\n1484.0         NaN           NaN        NaN   -5, 8, -3        NaN       NaN\n1488.0    -2, 1, 2           NaN        NaN         NaN        NaN       NaN\n1492.0         NaN           NaN  -5, 5, -2         NaN        NaN       NaN\n1496.0         NaN       2, 1, 2        NaN         NaN        NaN       NaN\n\n[731 rows x 6 columns]",
      "text/html": "<div>\n<style scoped>\n    .dataframe tbody tr th:only-of-type {\n        vertical-align: middle;\n    }\n\n    .dataframe tbody tr th {\n        vertical-align: top;\n    }\n\n    .dataframe thead th {\n        text-align: right;\n    }\n</style>\n<table border=\"1\" class=\"dataframe\">\n  <thead>\n    <tr style=\"text-align: right;\">\n      <th></th>\n      <th>[Discantus]</th>\n      <th>[Contratenor]</th>\n      <th>[Tenor]</th>\n      <th>[QuintaVox]</th>\n      <th>[SextaVox]</th>\n      <th>[Bassus]</th>\n    </tr>\n  </thead>\n  <tbody>\n    <tr>\n      <th>8.0</th>\n      <td>NaN</td>\n      <td>1, 2, 2</td>\n      <td>NaN</td>\n      <td>NaN</td>\n      <td>NaN</td>\n      <td>NaN</td>\n    </tr>\n    <tr>\n      <th>10.0</th>\n      <td>NaN</td>\n      <td>2, 2, 2</td>\n      <td>NaN</td>\n      <td>NaN</td>\n      <td>NaN</td>\n      <td>NaN</td>\n    </tr>\n    <tr>\n      <th>12.0</th>\n      <td>NaN</td>\n      <td>2, 2, -4</td>\n      <td>NaN</td>\n      <td>NaN</td>\n      <td>NaN</td>\n      <td>NaN</td>\n    </tr>\n    <tr>\n      <th>14.0</th>\n      <td>NaN</td>\n      <td>2, -4, 8</td>\n      <td>NaN</td>\n      <td>NaN</td>\n      <td>NaN</td>\n      <td>NaN</td>\n    </tr>\n    <tr>\n      <th>18.0</th>\n      <td>NaN</td>\n      <td>-4, 8, -2</td>\n      <td>NaN</td>\n      <td>NaN</td>\n      <td>NaN</td>\n      <td>NaN</td>\n    </tr>\n    <tr>\n      <th>...</th>\n      <td>...</td>\n      <td>...</td>\n      <td>...</td>\n      <td>...</td>\n      <td>...</td>\n      <td>...</td>\n    </tr>\n    <tr>\n      <th>1480.0</th>\n      <td>NaN</td>\n      <td>NaN</td>\n      <td>NaN</td>\n      <td>NaN</td>\n      <td>NaN</td>\n      <td>-3, 1, 4</td>\n    </tr>\n    <tr>\n      <th>1484.0</th>\n      <td>NaN</td>\n      <td>NaN</td>\n      <td>NaN</td>\n      <td>-5, 8, -3</td>\n      <td>NaN</td>\n      <td>NaN</td>\n    </tr>\n    <tr>\n      <th>1488.0</th>\n      <td>-2, 1, 2</td>\n      <td>NaN</td>\n      <td>NaN</td>\n      <td>NaN</td>\n      <td>NaN</td>\n      <td>NaN</td>\n    </tr>\n    <tr>\n      <th>1492.0</th>\n      <td>NaN</td>\n      <td>NaN</td>\n      <td>-5, 5, -2</td>\n      <td>NaN</td>\n      <td>NaN</td>\n      <td>NaN</td>\n    </tr>\n    <tr>\n      <th>1496.0</th>\n      <td>NaN</td>\n      <td>2, 1, 2</td>\n      <td>NaN</td>\n      <td>NaN</td>\n      <td>NaN</td>\n      <td>NaN</td>\n    </tr>\n  </tbody>\n</table>\n<p>731 rows × 6 columns</p>\n</div>"
     },
     "execution_count": 18,
     "metadata": {},
     "output_type": "execute_result"
    }
   ],
   "source": [
    "result_dfs[3]"
   ],
   "metadata": {
    "collapsed": false,
    "pycharm": {
     "name": "#%%\n"
    }
   }
  },
  {
   "cell_type": "code",
   "execution_count": 6,
   "outputs": [
    {
     "data": {
      "text/plain": "       Superius Contratenor PrimusTenor SecundusTenor Bassus\n0.0         NaN        Rest        Rest          Rest   Rest\n4.0          P5         NaN         NaN           NaN    NaN\n8.0         NaN        Rest        Rest          Rest   Rest\n10.0        -M2         NaN         NaN           NaN    NaN\n12.0         M2         NaN         NaN           NaN    NaN\n...         ...         ...         ...           ...    ...\n1065.0      NaN         NaN         NaN           NaN     m2\n1066.0      NaN         -M2         NaN           -M2     M2\n1068.0      NaN          A4         NaN           -M2    -m3\n1070.0      NaN         NaN         NaN           NaN    -M3\n1072.0      NaN         -M2         NaN           -m2     P5\n\n[781 rows x 5 columns]",
      "text/html": "<div>\n<style scoped>\n    .dataframe tbody tr th:only-of-type {\n        vertical-align: middle;\n    }\n\n    .dataframe tbody tr th {\n        vertical-align: top;\n    }\n\n    .dataframe thead th {\n        text-align: right;\n    }\n</style>\n<table border=\"1\" class=\"dataframe\">\n  <thead>\n    <tr style=\"text-align: right;\">\n      <th></th>\n      <th>Superius</th>\n      <th>Contratenor</th>\n      <th>PrimusTenor</th>\n      <th>SecundusTenor</th>\n      <th>Bassus</th>\n    </tr>\n  </thead>\n  <tbody>\n    <tr>\n      <th>0.0</th>\n      <td>NaN</td>\n      <td>Rest</td>\n      <td>Rest</td>\n      <td>Rest</td>\n      <td>Rest</td>\n    </tr>\n    <tr>\n      <th>4.0</th>\n      <td>P5</td>\n      <td>NaN</td>\n      <td>NaN</td>\n      <td>NaN</td>\n      <td>NaN</td>\n    </tr>\n    <tr>\n      <th>8.0</th>\n      <td>NaN</td>\n      <td>Rest</td>\n      <td>Rest</td>\n      <td>Rest</td>\n      <td>Rest</td>\n    </tr>\n    <tr>\n      <th>10.0</th>\n      <td>-M2</td>\n      <td>NaN</td>\n      <td>NaN</td>\n      <td>NaN</td>\n      <td>NaN</td>\n    </tr>\n    <tr>\n      <th>12.0</th>\n      <td>M2</td>\n      <td>NaN</td>\n      <td>NaN</td>\n      <td>NaN</td>\n      <td>NaN</td>\n    </tr>\n    <tr>\n      <th>...</th>\n      <td>...</td>\n      <td>...</td>\n      <td>...</td>\n      <td>...</td>\n      <td>...</td>\n    </tr>\n    <tr>\n      <th>1065.0</th>\n      <td>NaN</td>\n      <td>NaN</td>\n      <td>NaN</td>\n      <td>NaN</td>\n      <td>m2</td>\n    </tr>\n    <tr>\n      <th>1066.0</th>\n      <td>NaN</td>\n      <td>-M2</td>\n      <td>NaN</td>\n      <td>-M2</td>\n      <td>M2</td>\n    </tr>\n    <tr>\n      <th>1068.0</th>\n      <td>NaN</td>\n      <td>A4</td>\n      <td>NaN</td>\n      <td>-M2</td>\n      <td>-m3</td>\n    </tr>\n    <tr>\n      <th>1070.0</th>\n      <td>NaN</td>\n      <td>NaN</td>\n      <td>NaN</td>\n      <td>NaN</td>\n      <td>-M3</td>\n    </tr>\n    <tr>\n      <th>1072.0</th>\n      <td>NaN</td>\n      <td>-M2</td>\n      <td>NaN</td>\n      <td>-m2</td>\n      <td>P5</td>\n    </tr>\n  </tbody>\n</table>\n<p>781 rows × 5 columns</p>\n</div>"
     },
     "execution_count": 6,
     "metadata": {},
     "output_type": "execute_result"
    }
   ],
   "source": [
    "# see something with models\n",
    "models[0].getMelodic()\n"
   ],
   "metadata": {
    "collapsed": false,
    "pycharm": {
     "name": "#%%\n"
    }
   }
  },
  {
   "cell_type": "code",
   "execution_count": null,
   "outputs": [],
   "source": [],
   "metadata": {
    "collapsed": false,
    "pycharm": {
     "name": "#%%\n"
    }
   }
  }
 ],
 "metadata": {
  "kernelspec": {
   "display_name": "Python 3",
   "language": "python",
   "name": "python3"
  },
  "language_info": {
   "codemirror_mode": {
    "name": "ipython",
    "version": 2
   },
   "file_extension": ".py",
   "mimetype": "text/x-python",
   "name": "python",
   "nbconvert_exporter": "python",
   "pygments_lexer": "ipython2",
   "version": "2.7.6"
  }
 },
 "nbformat": 4,
 "nbformat_minor": 0
}